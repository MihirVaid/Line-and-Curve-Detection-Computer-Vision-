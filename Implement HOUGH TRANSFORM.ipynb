{
 "cells": [
  {
   "cell_type": "markdown",
   "id": "bac4dcc5",
   "metadata": {},
   "source": [
    "# Hough Transform implementation"
   ]
  },
  {
   "cell_type": "code",
   "execution_count": 58,
   "id": "be1dfe5e",
   "metadata": {},
   "outputs": [
    {
     "data": {
      "text/plain": [
       "'Steps\\n1.Noise reduction\\n2.Gradient calculation using sobelx and y\\n3.Non max suppression\\n4.edge tracking'"
      ]
     },
     "execution_count": 58,
     "metadata": {},
     "output_type": "execute_result"
    }
   ],
   "source": [
    "#Performing edge detection -\n",
    "\"\"\"Steps\n",
    "1.Noise reduction\n",
    "2.Gradient calculation using sobelx and y\n",
    "3.Non max suppression\n",
    "4.edge tracking\"\"\"\n",
    "#Hough Transform & then Line detection and drawing"
   ]
  },
  {
   "cell_type": "code",
   "execution_count": 66,
   "id": "0901287b",
   "metadata": {},
   "outputs": [],
   "source": [
    "#Noise Reduction using Gaussian filter\n",
    "import cv2\n",
    "import numpy as np\n",
    "import matplotlib.pyplot as plt\n",
    "from scipy.ndimage import gaussian_filter\n",
    "\n",
    "img = cv2.imread('cube1.jpg', cv2.IMREAD_GRAYSCALE)\n",
    "image = cv2.resize(img, (0, 0), fx=0.5, fy=0.5)\n",
    "#  Gaussian filter\n",
    "sigma = 1\n",
    "sm_img = gaussian_filter(image, sigma=sigma) \n",
    "\n",
    "cv2.imshow(\"image\",image)\n",
    "cv2.imshow(\"smoothed_image\",sm_img)\n",
    "cv2.waitKey(0)\n",
    "cv2.destroyAllWindows()"
   ]
  },
  {
   "cell_type": "code",
   "execution_count": 67,
   "id": "6a2220c9",
   "metadata": {},
   "outputs": [],
   "source": [
    "#Gradient Calculation using Sobel\n",
    "def sobel_filter(image):\n",
    "    sobel_x = np.array([[-1, 0, 1],\n",
    "                        [-2, 0, 2],\n",
    "                        [-1, 0, 1]])\n",
    "    sobel_y = np.array([[-1, -2, -1],\n",
    "                        [0, 0, 0],\n",
    "                        [1, 2, 1]])\n",
    "    grad_x = np.abs(np.convolve(image.ravel(), sobel_x.ravel(), mode='same').reshape(image.shape))\n",
    "    grad_y = np.abs(np.convolve(image.ravel(), sobel_y.ravel(), mode='same').reshape(image.shape))\n",
    "    gradient_magnitude = np.sqrt(grad_x ** 2 + grad_y ** 2)\n",
    "    gradient_direction = np.arctan2(grad_y, grad_x)\n",
    "    return gradient_magnitude, gradient_direction"
   ]
  },
  {
   "cell_type": "code",
   "execution_count": 68,
   "id": "937abcc7",
   "metadata": {},
   "outputs": [],
   "source": [
    "gradient_magnitude, gradient_direction = sobel_filter(sm_img)\n",
    "cv2.imshow(\"gradient_magnitude\",gradient_magnitude)\n",
    "cv2.waitKey(0)\n",
    "cv2.destroyAllWindows()"
   ]
  },
  {
   "cell_type": "code",
   "execution_count": null,
   "id": "afe2cb1a",
   "metadata": {},
   "outputs": [],
   "source": []
  },
  {
   "cell_type": "code",
   "execution_count": 69,
   "id": "0766d1c1",
   "metadata": {},
   "outputs": [],
   "source": [
    "#Non max suppression\n",
    "\n",
    "height,width = image.shape\n",
    "\n",
    "def non_maximum_suppression(gradient_magnitude, gradient_direction):\n",
    "    suppressed_edges = np.zeros_like(gradient_magnitude)\n",
    "    for i in range(1, height - 1):\n",
    "        for j in range(1, width - 1):\n",
    "            angle = gradient_direction[i, j]\n",
    "            if (0 <= angle < np.pi/8) or (15*np.pi/8 <= angle <= 2*np.pi):\n",
    "                neighbor1, neighbor2 = gradient_magnitude[i, j+1], gradient_magnitude[i, j-1]\n",
    "            elif (np.pi/8 <= angle < 3*np.pi/8) or (9*np.pi/8 <= angle < 11*np.pi/8):\n",
    "                neighbor1, neighbor2 = gradient_magnitude[i+1, j-1], gradient_magnitude[i-1, j+1]\n",
    "            elif (3*np.pi/8 <= angle < 5*np.pi/8) or (11*np.pi/8 <= angle < 13*np.pi/8):\n",
    "                neighbor1, neighbor2 = gradient_magnitude[i+1, j], gradient_magnitude[i-1, j]\n",
    "            else:\n",
    "                neighbor1, neighbor2 = gradient_magnitude[i-1, j-1], gradient_magnitude[i+1, j+1]\n",
    "            if gradient_magnitude[i, j] >= neighbor1 and gradient_magnitude[i, j] >= neighbor2:\n",
    "                suppressed_edges[i, j] = gradient_magnitude[i, j]\n",
    "    return suppressed_edges\n",
    "\n"
   ]
  },
  {
   "cell_type": "code",
   "execution_count": 70,
   "id": "0bdf4116",
   "metadata": {},
   "outputs": [],
   "source": [
    "suppressed_edges = non_maximum_suppression(gradient_magnitude, gradient_direction)\n",
    "cv2.imshow(\"suppressed_edges\",suppressed_edges)\n",
    "cv2.waitKey(0)\n",
    "cv2.destroyAllWindows()"
   ]
  },
  {
   "cell_type": "code",
   "execution_count": null,
   "id": "0bcea4a8",
   "metadata": {},
   "outputs": [],
   "source": []
  },
  {
   "cell_type": "code",
   "execution_count": 71,
   "id": "028712e3",
   "metadata": {},
   "outputs": [],
   "source": [
    "#edge tracking using double thresholding\n",
    "def hysteresis_thresholding(suppressed_edges, low_threshold, high_threshold):\n",
    "    strong_edges = (suppressed_edges >= high_threshold)\n",
    "    weak_edges = (suppressed_edges >= low_threshold) & (suppressed_edges < high_threshold)\n",
    "    edges_final = np.zeros_like(suppressed_edges, dtype=np.uint8)\n",
    "    edges_final[strong_edges] = 255\n",
    "    return edges_final\n"
   ]
  },
  {
   "cell_type": "code",
   "execution_count": 72,
   "id": "6e6c9d4d",
   "metadata": {},
   "outputs": [],
   "source": [
    "low_threshold = 15\n",
    "high_threshold = 60\n",
    "\n",
    "edges_final = hysteresis_thresholding(suppressed_edges, low_threshold, high_threshold)\n",
    "\n",
    "cv2.imshow(\"Edge Tracking\", edges_final)\n",
    "cv2.waitKey(0)\n",
    "cv2.destroyAllWindows()"
   ]
  },
  {
   "cell_type": "code",
   "execution_count": 73,
   "id": "17632b9b",
   "metadata": {},
   "outputs": [],
   "source": [
    "#Hough Transform function\n",
    "def hough_transform(image):\n",
    "    max_rho = int(np.ceil(np.sqrt(height**2 + width**2)))\n",
    "    theta_range = np.deg2rad(np.arange(-90, 90))\n",
    "    rho_range = np.arange(-max_rho, max_rho + 1)\n",
    "    accumulator = np.zeros((len(rho_range), len(theta_range)), dtype=np.uint64)\n",
    "\n",
    "    edge_pixels = np.argwhere(image > 0)\n",
    "    for y, x in edge_pixels:\n",
    "        for theta_idx, theta in enumerate(theta_range):\n",
    "            rho = int(x * np.cos(theta) + y * np.sin(theta))\n",
    "            rho_idx = np.argmin(np.abs(rho_range - rho))\n",
    "            accumulator[rho_idx, theta_idx] += 1\n",
    "\n",
    "    return accumulator, rho_range, theta_range"
   ]
  },
  {
   "cell_type": "code",
   "execution_count": 74,
   "id": "224a985b",
   "metadata": {
    "scrolled": false
   },
   "outputs": [],
   "source": [
    "accumulator, rho_range, theta_range = hough_transform(edges_final)"
   ]
  },
  {
   "cell_type": "code",
   "execution_count": 103,
   "id": "ee30997a",
   "metadata": {},
   "outputs": [],
   "source": [
    "threshold = 100\n",
    "rho_indices, theta_indices = np.where(accumulator >= threshold)"
   ]
  },
  {
   "cell_type": "code",
   "execution_count": 104,
   "id": "09024757",
   "metadata": {
    "scrolled": true
   },
   "outputs": [
    {
     "name": "stdout",
     "output_type": "stream",
     "text": [
      "[[0 0 0 ... 0 0 0]\n",
      " [0 0 0 ... 0 0 0]\n",
      " [0 0 0 ... 0 0 0]\n",
      " ...\n",
      " [0 0 0 ... 0 0 0]\n",
      " [0 0 0 ... 0 0 0]\n",
      " [0 0 0 ... 0 0 0]]\n"
     ]
    }
   ],
   "source": [
    "print(accumulator)"
   ]
  },
  {
   "cell_type": "code",
   "execution_count": 105,
   "id": "84105d64",
   "metadata": {
    "scrolled": false
   },
   "outputs": [
    {
     "name": "stdout",
     "output_type": "stream",
     "text": [
      "[ 460  615  623  696  747  750  882  890  923  930  969  970  975  979\n",
      "  980 1057 1063 1065 1067 1068 1075 1078 1081 1084 1142 1145 1146 1171\n",
      " 1172 1176 1180 1181 1184 1185 1187 1188 1189 1190 1267 1271 1273]\n"
     ]
    }
   ],
   "source": [
    "print(rho_indices)"
   ]
  },
  {
   "cell_type": "code",
   "execution_count": 106,
   "id": "b209fd4a",
   "metadata": {
    "scrolled": true
   },
   "outputs": [
    {
     "name": "stdout",
     "output_type": "stream",
     "text": [
      "[ 33  30  31  29  28  29 168 168 168 168 169 167 168 167 168  90 168 169\n",
      " 167 168 167 167 166 166  89  90  90 166 166 166 166 165 164 165 164 164\n",
      " 165 165 165 164 165]\n"
     ]
    }
   ],
   "source": [
    "print(theta_indices)"
   ]
  },
  {
   "cell_type": "code",
   "execution_count": 107,
   "id": "126f1473",
   "metadata": {},
   "outputs": [],
   "source": [
    "#detecting the lines\n",
    "detected_lines = []\n",
    "for rho_idx, theta_idx in zip(rho_indices, theta_indices):\n",
    "    rho = rho_range[rho_idx]\n",
    "    theta = theta_range[theta_idx]\n",
    "    a = np.cos(theta)\n",
    "    b = np.sin(theta)\n",
    "    x0 = a * rho\n",
    "    y0 = b * rho\n",
    "    x1 = int(x0 + 1000 * (-b)) \n",
    "    y1 = int(y0 + 1000 * (a))\n",
    "    x2 = int(x0 - 1000 * (-b))\n",
    "    y2 = int(y0 - 1000 * (a))\n",
    "    detected_lines.append([(x1, y1), (x2, y2)])\n"
   ]
  },
  {
   "cell_type": "code",
   "execution_count": 108,
   "id": "38e01192",
   "metadata": {},
   "outputs": [],
   "source": [
    "#drawing the lines\n",
    "image_with_lines = np.stack((image,)*3, axis=-1)\n",
    "for line in detected_lines:\n",
    "    cv2.line(image_with_lines, line[0], line[1], (0, 0, 255), 2) "
   ]
  },
  {
   "cell_type": "code",
   "execution_count": 109,
   "id": "c5ade7db",
   "metadata": {},
   "outputs": [],
   "source": [
    "cv2.imshow(\"image_with_lines\", image_with_lines)\n",
    "cv2.waitKey(0)\n",
    "cv2.destroyAllWindows()"
   ]
  },
  {
   "cell_type": "code",
   "execution_count": null,
   "id": "71f48695",
   "metadata": {},
   "outputs": [],
   "source": []
  }
 ],
 "metadata": {
  "kernelspec": {
   "display_name": "Python 3 (ipykernel)",
   "language": "python",
   "name": "python3"
  },
  "language_info": {
   "codemirror_mode": {
    "name": "ipython",
    "version": 3
   },
   "file_extension": ".py",
   "mimetype": "text/x-python",
   "name": "python",
   "nbconvert_exporter": "python",
   "pygments_lexer": "ipython3",
   "version": "3.11.1"
  }
 },
 "nbformat": 4,
 "nbformat_minor": 5
}
